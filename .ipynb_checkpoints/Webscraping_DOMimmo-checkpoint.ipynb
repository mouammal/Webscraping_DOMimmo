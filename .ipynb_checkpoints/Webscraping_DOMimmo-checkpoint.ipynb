{
 "cells": [
  {
   "cell_type": "markdown",
   "id": "a2afc983",
   "metadata": {},
   "source": [
    "# Webscraping & Analysis on DOMimmo Martinique"
   ]
  },
  {
   "cell_type": "code",
   "execution_count": 1,
   "id": "9dafbce4",
   "metadata": {},
   "outputs": [],
   "source": [
    "import requests as rq\n",
    "from bs4 import BeautifulSoup\n",
    "import pandas as pd\n",
    "import re\n",
    "import numpy as np"
   ]
  },
  {
   "cell_type": "code",
   "execution_count": 2,
   "id": "cad251b1",
   "metadata": {},
   "outputs": [],
   "source": [
    "# Regroup all urls pages from DOM\n",
    "urls = [\"https://www.domimmo.com/martinique/vente/\"]\n",
    "for page_num in range(2, 68):\n",
    "    urls.append(\"https://www.domimmo.com/martinique/vente/\" + \"page/\" + str(page_num)+ \"/\")\n",
    "\n",
    "# Make list of get requests\n",
    "response99 = []\n",
    "for url in urls :  \n",
    "    response99.append(rq.get(url))\n",
    "\n",
    "# Make a list of beautiful Soup's content \n",
    "soup99 = []\n",
    "for resp in response99 : \n",
    "    soup99.append(BeautifulSoup(resp.content, \"html5lib\"))"
   ]
  },
  {
   "cell_type": "code",
   "execution_count": 3,
   "id": "42f20aba",
   "metadata": {},
   "outputs": [
    {
     "name": "stdout",
     "output_type": "stream",
     "text": [
      "<li class=\"list__ul__li\"><div class=\"list__ul__li__tools tool\"><span class=\"list__ul__li__tools__date\">30/01/23</span><a class=\"list__ul__li__tools__heart tool__heart\" id=\"tool-heart-231301889368191\"><img class=\"list__ul__li__tools__heart__img\" height=\"20\" src=\"/assets/img/cmn/blank-1x1.png\" width=\"20\"/></a></div><a class=\"list__ul__li__a\" href=\"/martinique/immobilier/231301889368191/\"><div class=\"list__ul__li__a__logo\"><img alt=\"Appartement T2 avec jardin privatif\" class=\"list__ul__li__a__logo__img\" height=\"90\" loading=\"lazy\" src=\"https://keldom.blob.core.windows.net/domimmo/an/photos/120/231301854685704.jpg\" width=\"120\"/></div><div class=\"list__ul__li__a__txt\"><div class=\"list__ul__li__a__txt__catreg\"><div class=\"list__ul__li__a__txt__catreg__1\"><span class=\"list__ul__li__a__txt__catreg__1__cat\">Vente</span> <span class=\"list__ul__li__a__txt__catreg__1__type\">Appartement</span></div><div class=\"list__ul__li__a__txt__catreg__2\"><span class=\"list__ul__li__a__txt__catreg__2__cp\">97224</span> <span class=\"list__ul__li__a__txt__catreg__2__ville\">Ducos</span></div></div><div class=\"list__ul__li__a__txt__ti\">Appartement T2 avec jardin privatif</div><div class=\"list__ul__li__a__txt__prix\">130 000 € </div><div class=\"list__ul__li__a__txt__prop\">2 pièces - 1 chambre - 49 m²</div></div></a></li>\n"
     ]
    }
   ],
   "source": [
    "# Identify the HTML TAGS of cell's houses and make a list \n",
    "html_cells = []\n",
    "\n",
    "for sp in soup99 :  \n",
    "    html_cells.append(sp.find_all(name = 'li', class_=\"list__ul__li\"))\n",
    "\n",
    "# let's print HTML TAGS of ONE cell to see important information about a sell \n",
    "ok = html_cells[0][0]\n",
    "print(ok)"
   ]
  },
  {
   "cell_type": "code",
   "execution_count": 4,
   "id": "409fd751",
   "metadata": {},
   "outputs": [],
   "source": [
    "# Creates the lists of informations thanks to the HTML TAGS\n",
    "desc = []\n",
    "price = []\n",
    "info = []\n",
    "ville = []\n",
    "adress = []\n",
    "Type = []\n",
    "link = []\n",
    "date_annonce = []\n",
    "\n",
    "for page in html_cells :\n",
    "    for div in page :\n",
    "        \n",
    "        # table date mise en ligne\n",
    "        date = re.sub('[^0-9/.xa]','', div.find_all(name = 'span', class_='list__ul__li__tools__date')[0].text)\n",
    "        date_annonce.append(date)\n",
    "        \n",
    "        # table lien de vente \n",
    "        lien = 'https://www.domimmo.com' + div.find_all(name = 'a', class_='list__ul__li__a')[0]['href']\n",
    "        link.append(lien)\n",
    "        \n",
    "        # table type de vente\n",
    "        Type.append(div.find_all(name = 'span', class_=\"list__ul__li__a__txt__catreg__1__type\")[0].text)\n",
    "        \n",
    "        # table adress\n",
    "        adress.append(div.find_all(name = 'span', class_=\"list__ul__li__a__txt__catreg__2__cp\")[0].text)\n",
    "        \n",
    "        # table ville\n",
    "        ville.append(div.find_all(name = 'span', class_=\"list__ul__li__a__txt__catreg__2__ville\")[0].text)\n",
    "        \n",
    "        # table description\n",
    "        desc.append(div.find_all(name = 'div', class_=\"list__ul__li__a__txt__ti\")[0].text)\n",
    "        \n",
    "        # table price\n",
    "        prix = re.sub('[^0-9\\.xa]','', div.find_all(name = 'div', class_=\"list__ul__li__a__txt__prix\")[0].text)\n",
    "        price.append(prix)\n",
    "        \n",
    "        # table info \n",
    "        info.append(div.find_all(name = 'div', class_=\"list__ul__li__a__txt__prop\")[0].text.split('-'))"
   ]
  },
  {
   "cell_type": "code",
   "execution_count": 5,
   "id": "b3b9c114",
   "metadata": {},
   "outputs": [
    {
     "data": {
      "text/html": [
       "<div>\n",
       "<style scoped>\n",
       "    .dataframe tbody tr th:only-of-type {\n",
       "        vertical-align: middle;\n",
       "    }\n",
       "\n",
       "    .dataframe tbody tr th {\n",
       "        vertical-align: top;\n",
       "    }\n",
       "\n",
       "    .dataframe thead th {\n",
       "        text-align: right;\n",
       "    }\n",
       "</style>\n",
       "<table border=\"1\" class=\"dataframe\">\n",
       "  <thead>\n",
       "    <tr style=\"text-align: right;\">\n",
       "      <th></th>\n",
       "      <th>City</th>\n",
       "      <th>Address</th>\n",
       "      <th>Type</th>\n",
       "      <th>Description</th>\n",
       "      <th>Price (en €)</th>\n",
       "      <th>Publishing Date</th>\n",
       "      <th>Info</th>\n",
       "      <th>Link</th>\n",
       "    </tr>\n",
       "  </thead>\n",
       "  <tbody>\n",
       "    <tr>\n",
       "      <th>0</th>\n",
       "      <td>Ducos</td>\n",
       "      <td>97224</td>\n",
       "      <td>Appartement</td>\n",
       "      <td>Appartement T2 avec jardin privatif</td>\n",
       "      <td>130000</td>\n",
       "      <td>30/01/23</td>\n",
       "      <td>[2 pièces ,  1 chambre ,  49 m²]</td>\n",
       "      <td>https://www.domimmo.com/martinique/immobilier/231301889368191/</td>\n",
       "    </tr>\n",
       "    <tr>\n",
       "      <th>1</th>\n",
       "      <td>Le Diamant</td>\n",
       "      <td>97223</td>\n",
       "      <td>Appartement</td>\n",
       "      <td>Studio neuf avec terrasse pour investir au Diamant</td>\n",
       "      <td>189000</td>\n",
       "      <td>30/01/23</td>\n",
       "      <td>[1 pièce ,  26,61 m²]</td>\n",
       "      <td>https://www.domimmo.com/martinique/immobilier/231304297649327/</td>\n",
       "    </tr>\n",
       "    <tr>\n",
       "      <th>2</th>\n",
       "      <td>Sainte Luce</td>\n",
       "      <td>97228</td>\n",
       "      <td>Fonds de commerce</td>\n",
       "      <td>Fond de commerce Restaurant N°1 martinique</td>\n",
       "      <td>199000</td>\n",
       "      <td>30/01/23</td>\n",
       "      <td>[112 m²]</td>\n",
       "      <td>https://www.domimmo.com/martinique/immobilier/231304156643292/</td>\n",
       "    </tr>\n",
       "    <tr>\n",
       "      <th>3</th>\n",
       "      <td>Saint Esprit</td>\n",
       "      <td>97270</td>\n",
       "      <td>Maison / Villa</td>\n",
       "      <td>Vente Maison de ville 3 pièces</td>\n",
       "      <td>210000</td>\n",
       "      <td>30/01/23</td>\n",
       "      <td>[3 pièces ,  2 chambres ,  92 m²]</td>\n",
       "      <td>https://www.domimmo.com/martinique/immobilier/231304181145456/</td>\n",
       "    </tr>\n",
       "    <tr>\n",
       "      <th>4</th>\n",
       "      <td>Le Lamentin</td>\n",
       "      <td>97232</td>\n",
       "      <td>Appartement</td>\n",
       "      <td>Vente Appartement 2 pièces</td>\n",
       "      <td>139000</td>\n",
       "      <td>30/01/23</td>\n",
       "      <td>[2 pièces ,  1 chambre ,  58 m²]</td>\n",
       "      <td>https://www.domimmo.com/martinique/immobilier/231304181144475/</td>\n",
       "    </tr>\n",
       "    <tr>\n",
       "      <th>...</th>\n",
       "      <td>...</td>\n",
       "      <td>...</td>\n",
       "      <td>...</td>\n",
       "      <td>...</td>\n",
       "      <td>...</td>\n",
       "      <td>...</td>\n",
       "      <td>...</td>\n",
       "      <td>...</td>\n",
       "    </tr>\n",
       "    <tr>\n",
       "      <th>1998</th>\n",
       "      <td>Rivière Salée</td>\n",
       "      <td>97215</td>\n",
       "      <td>Terrain</td>\n",
       "      <td>TERRAIN PLAT NU CONSTRUCTIBLE</td>\n",
       "      <td>477000</td>\n",
       "      <td>30/10/22</td>\n",
       "      <td>[7 448 m²]</td>\n",
       "      <td>https://www.domimmo.com/martinique/immobilier/141121127076652/</td>\n",
       "    </tr>\n",
       "    <tr>\n",
       "      <th>1999</th>\n",
       "      <td>Le Vauclin</td>\n",
       "      <td>97280</td>\n",
       "      <td>Appartement</td>\n",
       "      <td>Le VAUCLIN - MACABOU - Appartement T4 Mezzanine 160 000 euro</td>\n",
       "      <td>160000</td>\n",
       "      <td>30/10/22</td>\n",
       "      <td>[4 pièces ,  3 chambres ,  70 m²]</td>\n",
       "      <td>https://www.domimmo.com/martinique/immobilier/141014153890966/</td>\n",
       "    </tr>\n",
       "    <tr>\n",
       "      <th>2000</th>\n",
       "      <td>Fort de France</td>\n",
       "      <td>97200</td>\n",
       "      <td>Maison / Villa</td>\n",
       "      <td>Jolie VILLA F4 (non meublée), sur un TERRAIN clôturé d'envir</td>\n",
       "      <td>410000</td>\n",
       "      <td>30/10/22</td>\n",
       "      <td>[4 pièces ,  3 chambres ,  150 m²]</td>\n",
       "      <td>https://www.domimmo.com/martinique/immobilier/131024204635878/</td>\n",
       "    </tr>\n",
       "    <tr>\n",
       "      <th>2001</th>\n",
       "      <td>Sainte Anne</td>\n",
       "      <td>97227</td>\n",
       "      <td>Maison / Villa</td>\n",
       "      <td>Ste ANNE - BELFOND - STUDIO TYPE MAISONNETTE - AVEC PARKING</td>\n",
       "      <td>118800</td>\n",
       "      <td>30/10/22</td>\n",
       "      <td>[1 pièce ,  1 chambre ,  15 m²]</td>\n",
       "      <td>https://www.domimmo.com/martinique/immobilier/121211133276815/</td>\n",
       "    </tr>\n",
       "    <tr>\n",
       "      <th>2002</th>\n",
       "      <td>Fort de France</td>\n",
       "      <td>97200</td>\n",
       "      <td>Appartement</td>\n",
       "      <td>Vente appartement 4 pièces à Pointe des nègres</td>\n",
       "      <td>170000</td>\n",
       "      <td>30/10/22</td>\n",
       "      <td>[4 pièces ,  3 chambres ,  95,09 m²]</td>\n",
       "      <td>https://www.domimmo.com/martinique/immobilier/125182115603521/</td>\n",
       "    </tr>\n",
       "  </tbody>\n",
       "</table>\n",
       "<p>2003 rows × 8 columns</p>\n",
       "</div>"
      ],
      "text/plain": [
       "                City Address               Type  \\\n",
       "0              Ducos   97224        Appartement   \n",
       "1         Le Diamant   97223        Appartement   \n",
       "2        Sainte Luce   97228  Fonds de commerce   \n",
       "3       Saint Esprit   97270     Maison / Villa   \n",
       "4        Le Lamentin   97232        Appartement   \n",
       "...              ...     ...                ...   \n",
       "1998   Rivière Salée   97215            Terrain   \n",
       "1999      Le Vauclin   97280        Appartement   \n",
       "2000  Fort de France   97200     Maison / Villa   \n",
       "2001     Sainte Anne   97227     Maison / Villa   \n",
       "2002  Fort de France   97200        Appartement   \n",
       "\n",
       "                                                       Description  \\\n",
       "0                              Appartement T2 avec jardin privatif   \n",
       "1               Studio neuf avec terrasse pour investir au Diamant   \n",
       "2                       Fond de commerce Restaurant N°1 martinique   \n",
       "3                                   Vente Maison de ville 3 pièces   \n",
       "4                                       Vente Appartement 2 pièces   \n",
       "...                                                            ...   \n",
       "1998                                 TERRAIN PLAT NU CONSTRUCTIBLE   \n",
       "1999  Le VAUCLIN - MACABOU - Appartement T4 Mezzanine 160 000 euro   \n",
       "2000  Jolie VILLA F4 (non meublée), sur un TERRAIN clôturé d'envir   \n",
       "2001   Ste ANNE - BELFOND - STUDIO TYPE MAISONNETTE - AVEC PARKING   \n",
       "2002                Vente appartement 4 pièces à Pointe des nègres   \n",
       "\n",
       "     Price (en €) Publishing Date                                  Info  \\\n",
       "0          130000        30/01/23      [2 pièces ,  1 chambre ,  49 m²]   \n",
       "1          189000        30/01/23                 [1 pièce ,  26,61 m²]   \n",
       "2          199000        30/01/23                              [112 m²]   \n",
       "3          210000        30/01/23     [3 pièces ,  2 chambres ,  92 m²]   \n",
       "4          139000        30/01/23      [2 pièces ,  1 chambre ,  58 m²]   \n",
       "...           ...             ...                                   ...   \n",
       "1998       477000        30/10/22                            [7 448 m²]   \n",
       "1999       160000        30/10/22     [4 pièces ,  3 chambres ,  70 m²]   \n",
       "2000       410000        30/10/22    [4 pièces ,  3 chambres ,  150 m²]   \n",
       "2001       118800        30/10/22       [1 pièce ,  1 chambre ,  15 m²]   \n",
       "2002       170000        30/10/22  [4 pièces ,  3 chambres ,  95,09 m²]   \n",
       "\n",
       "                                                                Link  \n",
       "0     https://www.domimmo.com/martinique/immobilier/231301889368191/  \n",
       "1     https://www.domimmo.com/martinique/immobilier/231304297649327/  \n",
       "2     https://www.domimmo.com/martinique/immobilier/231304156643292/  \n",
       "3     https://www.domimmo.com/martinique/immobilier/231304181145456/  \n",
       "4     https://www.domimmo.com/martinique/immobilier/231304181144475/  \n",
       "...                                                              ...  \n",
       "1998  https://www.domimmo.com/martinique/immobilier/141121127076652/  \n",
       "1999  https://www.domimmo.com/martinique/immobilier/141014153890966/  \n",
       "2000  https://www.domimmo.com/martinique/immobilier/131024204635878/  \n",
       "2001  https://www.domimmo.com/martinique/immobilier/121211133276815/  \n",
       "2002  https://www.domimmo.com/martinique/immobilier/125182115603521/  \n",
       "\n",
       "[2003 rows x 8 columns]"
      ]
     },
     "execution_count": 5,
     "metadata": {},
     "output_type": "execute_result"
    }
   ],
   "source": [
    "# dictionary of lists \n",
    "dict = {'City': ville, 'Address' : adress, 'Type':Type, 'Description':desc, \n",
    "        'Price (en €)':price, 'Publishing Date': date_annonce,'Info':info, 'Link' :link}\n",
    "\n",
    "df = pd.DataFrame(dict)\n",
    "pd.options.display.max_colwidth = 500\n",
    "df"
   ]
  },
  {
   "cell_type": "markdown",
   "id": "b4328870",
   "metadata": {},
   "source": [
    "# Data Wrangling"
   ]
  },
  {
   "cell_type": "code",
   "execution_count": 6,
   "id": "c7c9f1bb",
   "metadata": {},
   "outputs": [
    {
     "data": {
      "text/plain": [
       "0    2  \n",
       "1    1  \n",
       "2    NaN\n",
       "3    3  \n",
       "4    2  \n",
       "5    6  \n",
       "6    3  \n",
       "7    2  \n",
       "8    NaN\n",
       "9    3  \n",
       "Name: Info, dtype: object"
      ]
     },
     "execution_count": 6,
     "metadata": {},
     "output_type": "execute_result"
    }
   ],
   "source": [
    "nb_piece = df['Info']\n",
    "nb_piece = nb_piece.apply(lambda x: list(filter(lambda elem: 'pièce' in elem,x)))\n",
    "nb_piece = nb_piece.apply(lambda x: \" \".join(x))\n",
    "nb_piece = nb_piece.str.replace('[\\.pièces]', '', regex = True)\n",
    "nb_piece = nb_piece.replace('',np.nan)\n",
    "nb_piece.head(10)"
   ]
  },
  {
   "cell_type": "code",
   "execution_count": 7,
   "id": "72a81b58",
   "metadata": {},
   "outputs": [
    {
     "data": {
      "text/plain": [
       "0     NaN\n",
       "1     NaN\n",
       "2     NaN\n",
       "3     2  \n",
       "4     NaN\n",
       "5     4  \n",
       "6     2  \n",
       "7     NaN\n",
       "8     NaN\n",
       "9     2  \n",
       "Name: Info, dtype: object"
      ]
     },
     "execution_count": 7,
     "metadata": {},
     "output_type": "execute_result"
    }
   ],
   "source": [
    "nb_room = df['Info']\n",
    "nb_room = nb_room.apply(lambda x: list(filter(lambda elem: 'chambres' in elem,x)))\n",
    "nb_room = nb_room.apply(lambda x: \" \".join(x))\n",
    "nb_room = nb_room.str.replace('[\\.chambres]', '', regex = True)\n",
    "nb_room = nb_room.replace('',np.nan)\n",
    "nb_room.head(10)"
   ]
  },
  {
   "cell_type": "code",
   "execution_count": 8,
   "id": "52ae368a",
   "metadata": {},
   "outputs": [
    {
     "data": {
      "text/plain": [
       "0        49 \n",
       "1     26,61 \n",
       "2       112 \n",
       "3        92 \n",
       "4        58 \n",
       "5       138 \n",
       "6        98 \n",
       "7        41 \n",
       "8       325 \n",
       "9       880 \n",
       "Name: Info, dtype: object"
      ]
     },
     "execution_count": 8,
     "metadata": {},
     "output_type": "execute_result"
    }
   ],
   "source": [
    "nb_m2 = df['Info']\n",
    "nb_m2 = nb_m2.apply(lambda x: list(filter(lambda elem: 'm²' in elem,x)))\n",
    "nb_m2 = nb_m2.apply(lambda x: \" \".join(x))\n",
    "nb_m2 = nb_m2.str.replace('[\\.m²]', '', regex = True)\n",
    "nb_m2 = nb_m2.replace('',np.nan)\n",
    "nb_m2.head(10)"
   ]
  },
  {
   "cell_type": "code",
   "execution_count": 9,
   "id": "8bd71eea",
   "metadata": {},
   "outputs": [
    {
     "data": {
      "text/html": [
       "<div>\n",
       "<style scoped>\n",
       "    .dataframe tbody tr th:only-of-type {\n",
       "        vertical-align: middle;\n",
       "    }\n",
       "\n",
       "    .dataframe tbody tr th {\n",
       "        vertical-align: top;\n",
       "    }\n",
       "\n",
       "    .dataframe thead th {\n",
       "        text-align: right;\n",
       "    }\n",
       "</style>\n",
       "<table border=\"1\" class=\"dataframe\">\n",
       "  <thead>\n",
       "    <tr style=\"text-align: right;\">\n",
       "      <th></th>\n",
       "      <th>City</th>\n",
       "      <th>Address</th>\n",
       "      <th>Type</th>\n",
       "      <th>Description</th>\n",
       "      <th>Price (in €)</th>\n",
       "      <th>Publishing Date</th>\n",
       "      <th>Number_Room</th>\n",
       "      <th>Number_Bedroom</th>\n",
       "      <th>Surface (in m²)</th>\n",
       "      <th>Link</th>\n",
       "    </tr>\n",
       "  </thead>\n",
       "  <tbody>\n",
       "    <tr>\n",
       "      <th>0</th>\n",
       "      <td>Ducos</td>\n",
       "      <td>97224</td>\n",
       "      <td>Appartement</td>\n",
       "      <td>Appartement T2 avec jardin privatif</td>\n",
       "      <td>130000</td>\n",
       "      <td>30/01/23</td>\n",
       "      <td>2</td>\n",
       "      <td>0</td>\n",
       "      <td>49.0</td>\n",
       "      <td>https://www.domimmo.com/martinique/immobilier/231301889368191/</td>\n",
       "    </tr>\n",
       "    <tr>\n",
       "      <th>1</th>\n",
       "      <td>Le Diamant</td>\n",
       "      <td>97223</td>\n",
       "      <td>Appartement</td>\n",
       "      <td>Studio neuf avec terrasse pour investir au Diamant</td>\n",
       "      <td>189000</td>\n",
       "      <td>30/01/23</td>\n",
       "      <td>1</td>\n",
       "      <td>0</td>\n",
       "      <td>0.0</td>\n",
       "      <td>https://www.domimmo.com/martinique/immobilier/231304297649327/</td>\n",
       "    </tr>\n",
       "    <tr>\n",
       "      <th>2</th>\n",
       "      <td>Sainte Luce</td>\n",
       "      <td>97228</td>\n",
       "      <td>Fonds de commerce</td>\n",
       "      <td>Fond de commerce Restaurant N°1 martinique</td>\n",
       "      <td>199000</td>\n",
       "      <td>30/01/23</td>\n",
       "      <td>0</td>\n",
       "      <td>0</td>\n",
       "      <td>112.0</td>\n",
       "      <td>https://www.domimmo.com/martinique/immobilier/231304156643292/</td>\n",
       "    </tr>\n",
       "    <tr>\n",
       "      <th>3</th>\n",
       "      <td>Saint Esprit</td>\n",
       "      <td>97270</td>\n",
       "      <td>Maison / Villa</td>\n",
       "      <td>Vente Maison de ville 3 pièces</td>\n",
       "      <td>210000</td>\n",
       "      <td>30/01/23</td>\n",
       "      <td>3</td>\n",
       "      <td>2</td>\n",
       "      <td>92.0</td>\n",
       "      <td>https://www.domimmo.com/martinique/immobilier/231304181145456/</td>\n",
       "    </tr>\n",
       "    <tr>\n",
       "      <th>4</th>\n",
       "      <td>Le Lamentin</td>\n",
       "      <td>97232</td>\n",
       "      <td>Appartement</td>\n",
       "      <td>Vente Appartement 2 pièces</td>\n",
       "      <td>139000</td>\n",
       "      <td>30/01/23</td>\n",
       "      <td>2</td>\n",
       "      <td>0</td>\n",
       "      <td>58.0</td>\n",
       "      <td>https://www.domimmo.com/martinique/immobilier/231304181144475/</td>\n",
       "    </tr>\n",
       "    <tr>\n",
       "      <th>...</th>\n",
       "      <td>...</td>\n",
       "      <td>...</td>\n",
       "      <td>...</td>\n",
       "      <td>...</td>\n",
       "      <td>...</td>\n",
       "      <td>...</td>\n",
       "      <td>...</td>\n",
       "      <td>...</td>\n",
       "      <td>...</td>\n",
       "      <td>...</td>\n",
       "    </tr>\n",
       "    <tr>\n",
       "      <th>1998</th>\n",
       "      <td>Rivière Salée</td>\n",
       "      <td>97215</td>\n",
       "      <td>Terrain</td>\n",
       "      <td>TERRAIN PLAT NU CONSTRUCTIBLE</td>\n",
       "      <td>477000</td>\n",
       "      <td>30/10/22</td>\n",
       "      <td>0</td>\n",
       "      <td>0</td>\n",
       "      <td>0.0</td>\n",
       "      <td>https://www.domimmo.com/martinique/immobilier/141121127076652/</td>\n",
       "    </tr>\n",
       "    <tr>\n",
       "      <th>1999</th>\n",
       "      <td>Le Vauclin</td>\n",
       "      <td>97280</td>\n",
       "      <td>Appartement</td>\n",
       "      <td>Le VAUCLIN - MACABOU - Appartement T4 Mezzanine 160 000 euro</td>\n",
       "      <td>160000</td>\n",
       "      <td>30/10/22</td>\n",
       "      <td>4</td>\n",
       "      <td>3</td>\n",
       "      <td>70.0</td>\n",
       "      <td>https://www.domimmo.com/martinique/immobilier/141014153890966/</td>\n",
       "    </tr>\n",
       "    <tr>\n",
       "      <th>2000</th>\n",
       "      <td>Fort de France</td>\n",
       "      <td>97200</td>\n",
       "      <td>Maison / Villa</td>\n",
       "      <td>Jolie VILLA F4 (non meublée), sur un TERRAIN clôturé d'envir</td>\n",
       "      <td>410000</td>\n",
       "      <td>30/10/22</td>\n",
       "      <td>4</td>\n",
       "      <td>3</td>\n",
       "      <td>150.0</td>\n",
       "      <td>https://www.domimmo.com/martinique/immobilier/131024204635878/</td>\n",
       "    </tr>\n",
       "    <tr>\n",
       "      <th>2001</th>\n",
       "      <td>Sainte Anne</td>\n",
       "      <td>97227</td>\n",
       "      <td>Maison / Villa</td>\n",
       "      <td>Ste ANNE - BELFOND - STUDIO TYPE MAISONNETTE - AVEC PARKING</td>\n",
       "      <td>118800</td>\n",
       "      <td>30/10/22</td>\n",
       "      <td>1</td>\n",
       "      <td>0</td>\n",
       "      <td>15.0</td>\n",
       "      <td>https://www.domimmo.com/martinique/immobilier/121211133276815/</td>\n",
       "    </tr>\n",
       "    <tr>\n",
       "      <th>2002</th>\n",
       "      <td>Fort de France</td>\n",
       "      <td>97200</td>\n",
       "      <td>Appartement</td>\n",
       "      <td>Vente appartement 4 pièces à Pointe des nègres</td>\n",
       "      <td>170000</td>\n",
       "      <td>30/10/22</td>\n",
       "      <td>4</td>\n",
       "      <td>3</td>\n",
       "      <td>0.0</td>\n",
       "      <td>https://www.domimmo.com/martinique/immobilier/125182115603521/</td>\n",
       "    </tr>\n",
       "  </tbody>\n",
       "</table>\n",
       "<p>2003 rows × 10 columns</p>\n",
       "</div>"
      ],
      "text/plain": [
       "                City Address               Type  \\\n",
       "0              Ducos   97224        Appartement   \n",
       "1         Le Diamant   97223        Appartement   \n",
       "2        Sainte Luce   97228  Fonds de commerce   \n",
       "3       Saint Esprit   97270     Maison / Villa   \n",
       "4        Le Lamentin   97232        Appartement   \n",
       "...              ...     ...                ...   \n",
       "1998   Rivière Salée   97215            Terrain   \n",
       "1999      Le Vauclin   97280        Appartement   \n",
       "2000  Fort de France   97200     Maison / Villa   \n",
       "2001     Sainte Anne   97227     Maison / Villa   \n",
       "2002  Fort de France   97200        Appartement   \n",
       "\n",
       "                                                       Description  \\\n",
       "0                              Appartement T2 avec jardin privatif   \n",
       "1               Studio neuf avec terrasse pour investir au Diamant   \n",
       "2                       Fond de commerce Restaurant N°1 martinique   \n",
       "3                                   Vente Maison de ville 3 pièces   \n",
       "4                                       Vente Appartement 2 pièces   \n",
       "...                                                            ...   \n",
       "1998                                 TERRAIN PLAT NU CONSTRUCTIBLE   \n",
       "1999  Le VAUCLIN - MACABOU - Appartement T4 Mezzanine 160 000 euro   \n",
       "2000  Jolie VILLA F4 (non meublée), sur un TERRAIN clôturé d'envir   \n",
       "2001   Ste ANNE - BELFOND - STUDIO TYPE MAISONNETTE - AVEC PARKING   \n",
       "2002                Vente appartement 4 pièces à Pointe des nègres   \n",
       "\n",
       "      Price (in €) Publishing Date  Number_Room  Number_Bedroom  \\\n",
       "0           130000        30/01/23            2               0   \n",
       "1           189000        30/01/23            1               0   \n",
       "2           199000        30/01/23            0               0   \n",
       "3           210000        30/01/23            3               2   \n",
       "4           139000        30/01/23            2               0   \n",
       "...            ...             ...          ...             ...   \n",
       "1998        477000        30/10/22            0               0   \n",
       "1999        160000        30/10/22            4               3   \n",
       "2000        410000        30/10/22            4               3   \n",
       "2001        118800        30/10/22            1               0   \n",
       "2002        170000        30/10/22            4               3   \n",
       "\n",
       "      Surface (in m²)  \\\n",
       "0                49.0   \n",
       "1                 0.0   \n",
       "2               112.0   \n",
       "3                92.0   \n",
       "4                58.0   \n",
       "...               ...   \n",
       "1998              0.0   \n",
       "1999             70.0   \n",
       "2000            150.0   \n",
       "2001             15.0   \n",
       "2002              0.0   \n",
       "\n",
       "                                                                Link  \n",
       "0     https://www.domimmo.com/martinique/immobilier/231301889368191/  \n",
       "1     https://www.domimmo.com/martinique/immobilier/231304297649327/  \n",
       "2     https://www.domimmo.com/martinique/immobilier/231304156643292/  \n",
       "3     https://www.domimmo.com/martinique/immobilier/231304181145456/  \n",
       "4     https://www.domimmo.com/martinique/immobilier/231304181144475/  \n",
       "...                                                              ...  \n",
       "1998  https://www.domimmo.com/martinique/immobilier/141121127076652/  \n",
       "1999  https://www.domimmo.com/martinique/immobilier/141014153890966/  \n",
       "2000  https://www.domimmo.com/martinique/immobilier/131024204635878/  \n",
       "2001  https://www.domimmo.com/martinique/immobilier/121211133276815/  \n",
       "2002  https://www.domimmo.com/martinique/immobilier/125182115603521/  \n",
       "\n",
       "[2003 rows x 10 columns]"
      ]
     },
     "execution_count": 9,
     "metadata": {},
     "output_type": "execute_result"
    }
   ],
   "source": [
    "# dictionary of lists \n",
    "dict1 = {'City':ville, 'Address':adress, 'Type':Type, 'Description' : desc, 'Price (in €)':price, \n",
    "         'Publishing Date': date_annonce,'Number_Room':nb_piece, 'Number_Bedroom':nb_room, \n",
    "         'Surface (in m²)':nb_m2, 'Link' :link}\n",
    "df1 = pd.DataFrame(dict1)\n",
    "\n",
    "# cast price to int \n",
    "df1['Price (in €)'] = pd.to_numeric(df1['Price (in €)'], errors='coerce').fillna(0)\n",
    "df1['Price (in €)'] = df1['Price (in €)'].astype('int')\n",
    "\n",
    "# cast Number_Room to int \n",
    "df1['Number_Room'] = pd.to_numeric(df1['Number_Room'], errors='coerce').fillna(0)\n",
    "df1['Number_Room'] = df1['Number_Room'].astype('int')\n",
    "\n",
    "# cast Number_Bedroom to int \n",
    "df1['Number_Bedroom'] = pd.to_numeric(df1['Number_Bedroom'], errors='coerce').fillna(0)\n",
    "df1['Number_Bedroom'] = df1['Number_Bedroom'].astype('int')\n",
    "\n",
    "# cast Surface (in m²) to float\n",
    "df1['Surface (in m²)'] = pd.to_numeric(df1['Surface (in m²)'], errors='coerce').fillna(0)\n",
    "df1['Surface (in m²)'] = df1['Surface (in m²)'].astype('float')\n",
    "\n",
    "df1"
   ]
  },
  {
   "cell_type": "markdown",
   "id": "e63fbd64",
   "metadata": {},
   "source": [
    "# Data Visualization using Folium"
   ]
  },
  {
   "cell_type": "code",
   "execution_count": null,
   "id": "604df220",
   "metadata": {},
   "outputs": [],
   "source": [
    "from geopy.geocoders import Nominatim\n",
    "\n",
    "# Initialize the geolocator\n",
    "geolocator = Nominatim(user_agent=\"geoapiExerciser\")\n",
    "\n",
    "# Create an empty list to store the locations\n",
    "locations = []\n",
    "\n",
    "count_by_city = df1.groupby('City').size().reset_index(name='counts')\n",
    "\n",
    "# Iterate through each city in your list\n",
    "for city in count_by_city.City :\n",
    "    # Get the location for the city\n",
    "    location = geolocator.geocode((city + ', Martinique'))\n",
    "    # Append the location to the list\n",
    "    locations.append((city, location.latitude, location.longitude))"
   ]
  },
  {
   "cell_type": "markdown",
   "id": "846cb549",
   "metadata": {},
   "source": [
    "### 1. DF of the Count of property sale per City "
   ]
  },
  {
   "cell_type": "code",
   "execution_count": null,
   "id": "107a3ef6",
   "metadata": {},
   "outputs": [],
   "source": [
    "# create location dataframe\n",
    "df_locations = pd.DataFrame(locations, columns=['City', 'Latitude', 'Longitude'])\n",
    "\n",
    "# merge the location dataframe with the count_by_city dataframe on the 'City' column\n",
    "df_merged = count_by_city.merge(df_locations, on='City')\n",
    "df_merged.sort_values(by='counts', ascending=False, inplace=True)\n",
    "df_merged.head(10)"
   ]
  },
  {
   "cell_type": "markdown",
   "id": "723885f8",
   "metadata": {},
   "source": [
    "### 2. Map of the Count of property sale per City"
   ]
  },
  {
   "cell_type": "code",
   "execution_count": null,
   "id": "dba25624",
   "metadata": {
    "scrolled": true
   },
   "outputs": [],
   "source": [
    "import folium\n",
    "from branca.colormap import linear\n",
    "\n",
    "# Start location is MARTINIQUE\n",
    "martinique_coordinate = [14.641528, -61.024174]\n",
    "map = folium.Map(location = martinique_coordinate, zoom_start=10)\n",
    "\n",
    "occurences = folium.map.FeatureGroup()\n",
    "n_mean = df_merged['counts'].mean()\n",
    "\n",
    "for lat, long, number, city in zip(df_merged['Latitude'],\n",
    "                                   df_merged['Longitude'],\n",
    "                                   df_merged['counts'],\n",
    "                                   df_merged['City'], ):\n",
    "    occurences.add_child(\n",
    "    folium.vector_layers.CircleMarker( [lat, long],\n",
    "                                       radius = number/n_mean*5, # define how big you want the circle markers to be\n",
    "                                       color='red',\n",
    "                                       fill=True,\n",
    "                                       fill_color='blue',\n",
    "                                       fill_opacity=0.4,\n",
    "                                       tooltip = str(city) +', '+ str(number)\n",
    "                                     )\n",
    "    )\n",
    "\n",
    "map.add_child(occurences)"
   ]
  },
  {
   "cell_type": "markdown",
   "id": "fa2b039d",
   "metadata": {},
   "source": [
    "- Most of property sale are located in South of the islands and near coast. \n",
    "- Especially in South-West, on the side of the carribean sea where Fort-de-France has the most property sales."
   ]
  },
  {
   "cell_type": "markdown",
   "id": "78bcba6d",
   "metadata": {},
   "source": [
    "### 3. DF of Mean Price (in €) per City"
   ]
  },
  {
   "cell_type": "code",
   "execution_count": null,
   "id": "b520f25f",
   "metadata": {},
   "outputs": [],
   "source": [
    "mean_price_by_city = df1.groupby(['City'])['Price (in €)'].mean().round().reset_index(name='Mean Price')\n",
    "mean_price_by_city = mean_price_by_city.merge(df_locations, on='City')\n",
    "mean_price_by_city.head(10)"
   ]
  },
  {
   "cell_type": "markdown",
   "id": "d3c956c3",
   "metadata": {},
   "source": [
    "### 4. Map of Mean Price (in €) of property sale per City"
   ]
  },
  {
   "cell_type": "code",
   "execution_count": null,
   "id": "0e8c2aa6",
   "metadata": {
    "scrolled": true
   },
   "outputs": [],
   "source": [
    "# Start location is MARTINIQUE\n",
    "martinique_coordinate = [14.641528, -61.024174]\n",
    "map = folium.Map(location = martinique_coordinate, zoom_start=10)\n",
    "\n",
    "occurences = folium.map.FeatureGroup()\n",
    "total_mean = mean_price_by_city['Mean Price'].mean()\n",
    "\n",
    "for lat, long, mean_p, city in zip(mean_price_by_city['Latitude'],\n",
    "                                   mean_price_by_city['Longitude'],\n",
    "                                   mean_price_by_city['Mean Price'],\n",
    "                                   mean_price_by_city['City'], ):\n",
    "    occurences.add_child(\n",
    "    folium.vector_layers.CircleMarker( [lat, long],\n",
    "                                       radius = mean_p/total_mean*5, # define how big you want the circle markers to be\n",
    "                                       color='blue',\n",
    "                                       fill=True,\n",
    "                                       fill_color='green',\n",
    "                                       fill_opacity=0.4,\n",
    "                                       tooltip = str(city) +', avg price = '+ str(mean_p) + '€'\n",
    "                                     )\n",
    "    )\n",
    "\n",
    "map.add_child(occurences)"
   ]
  },
  {
   "cell_type": "markdown",
   "id": "47715ddc",
   "metadata": {},
   "source": [
    "- Property sale that are located on South-West of the island on the carrabean sea costs almost 1M €.\n",
    "- The lowest average price for the sale of a property is located inland.\n",
    "- The average price of a property sale is increasing wheter we are near a coast (Atlantic Ocean or Carrabean Sea) or not.\n",
    "- Fort-de-France, the 'chef-lieu' of Martinique has a low avg price around 300k €."
   ]
  },
  {
   "cell_type": "markdown",
   "id": "ce08a024",
   "metadata": {},
   "source": [
    "# Data Analysis"
   ]
  },
  {
   "cell_type": "code",
   "execution_count": null,
   "id": "ca9ac642",
   "metadata": {},
   "outputs": [],
   "source": [
    "import seaborn as sns\n",
    "import matplotlib.pyplot as plt"
   ]
  },
  {
   "cell_type": "markdown",
   "id": "b988b434",
   "metadata": {},
   "source": [
    "### 1. General Dataframe DF2 Total "
   ]
  },
  {
   "cell_type": "code",
   "execution_count": null,
   "id": "d44ccf72",
   "metadata": {},
   "outputs": [],
   "source": [
    "df2 = df1.merge(df_locations, on='City')\n",
    "\n",
    "\n",
    "# Reorder the columns\n",
    "df2 = df2.reindex(columns = ['Publishing Date', 'City','Address','Type','Description','Price (in €)',\n",
    "                             'Number_Room','Number_Bedroom','Surface (in m²)',\n",
    "                             'Latitude','Longitude','Link'])\n",
    "df2.head(5)"
   ]
  },
  {
   "cell_type": "code",
   "execution_count": null,
   "id": "e779fb4b",
   "metadata": {},
   "outputs": [],
   "source": [
    "df2.describe().round(1)"
   ]
  },
  {
   "cell_type": "code",
   "execution_count": null,
   "id": "c64b82cd",
   "metadata": {},
   "outputs": [],
   "source": [
    "df2.Type.value_counts()"
   ]
  },
  {
   "cell_type": "code",
   "execution_count": null,
   "id": "630b69d7",
   "metadata": {},
   "outputs": [],
   "source": [
    "# Streamlit\n",
    "df2.to_csv('Webscraping_DOMimmo_2.csv',index=False)"
   ]
  },
  {
   "cell_type": "markdown",
   "id": "e7782863",
   "metadata": {},
   "source": [
    "### 2. Analysis Dataframe by Type : 'Appartement' (DF3)"
   ]
  },
  {
   "cell_type": "code",
   "execution_count": null,
   "id": "4b5d9334",
   "metadata": {},
   "outputs": [],
   "source": [
    "# DATAFRAME BY TYPE OF Appartement\n",
    "df3 = df2[df2.Type == 'Appartement']\n",
    "\n",
    "print(df3.shape)\n",
    "df3.head(5)"
   ]
  },
  {
   "cell_type": "code",
   "execution_count": null,
   "id": "7e63a082",
   "metadata": {},
   "outputs": [],
   "source": [
    "#df3.to_csv('Webscraping_DOMimmo_3.csv')"
   ]
  },
  {
   "cell_type": "code",
   "execution_count": null,
   "id": "d287afdb",
   "metadata": {},
   "outputs": [],
   "source": [
    "# Mean price by city to map it \n",
    "mean_app_by_city = df3.groupby(['City'])['Price (in €)'].mean().round().reset_index(name='Mean Price')\n",
    "df_app_map = pd.merge(df3, mean_app_by_city, on='City')\n",
    "\n",
    "# df to use only for the folium map \n",
    "df_app_map = df_app_map.reindex(columns = ['City','Mean Price','Latitude','Longitude'])"
   ]
  },
  {
   "cell_type": "code",
   "execution_count": null,
   "id": "849a818c",
   "metadata": {
    "scrolled": true
   },
   "outputs": [],
   "source": [
    "# Start location is MARTINIQUE\n",
    "martinique_coordinate = [14.641528, -61.024174]\n",
    "map = folium.Map(location = martinique_coordinate, zoom_start=10)\n",
    "\n",
    "occurences = folium.map.FeatureGroup()\n",
    "total_mean = df_app_map['Mean Price'].mean()\n",
    "\n",
    "for lat, long, mean_p, city in zip(df_app_map['Latitude'],\n",
    "                                   df_app_map['Longitude'],\n",
    "                                   df_app_map['Mean Price'],\n",
    "                                   df_app_map['City'], ):\n",
    "    occurences.add_child(\n",
    "    folium.vector_layers.CircleMarker( [lat, long],\n",
    "                                       radius = mean_p/total_mean*5, # define how big you want the circle markers to be\n",
    "                                       color='blue',\n",
    "                                       fill=True,\n",
    "                                       fill_color='green',\n",
    "                                       fill_opacity=0.4,\n",
    "                                       tooltip = str(city) +', avg price = '+ str(mean_p) + '€'\n",
    "                                     )\n",
    "    )\n",
    "\n",
    "map.add_child(occurences)"
   ]
  },
  {
   "cell_type": "markdown",
   "id": "861d53ac",
   "metadata": {},
   "source": [
    "### 3. Heatmap of Corrolated Dataframe of Appartement "
   ]
  },
  {
   "cell_type": "code",
   "execution_count": null,
   "id": "8a6190b8",
   "metadata": {},
   "outputs": [],
   "source": [
    "# Heatmap to find relations between variables in a dataset. \n",
    "sns.heatmap(df3.corr(), annot = True, cmap = 'magma')\n",
    "plt.show()"
   ]
  },
  {
   "cell_type": "markdown",
   "id": "f0432f5a",
   "metadata": {},
   "source": [
    "### 4. Regplot & Barplot of differents variable vs average price"
   ]
  },
  {
   "cell_type": "markdown",
   "id": "342957b8",
   "metadata": {},
   "source": [
    "We use Scatter plot to observe linear relations between two variables in a dataset. \n",
    "In our case, the ‘SalePrice’ attribute is the dependent variable, and every other are the independent variables."
   ]
  },
  {
   "cell_type": "code",
   "execution_count": null,
   "id": "23d25e99",
   "metadata": {},
   "outputs": [],
   "source": [
    "# Mean price by room \n",
    "apt_mean_price_by_room = df3.groupby(['Number_Room'])['Price (in €)'].mean().round().reset_index(name='Mean Price Room')\n",
    "\n",
    "# Mean price by bedroom\n",
    "apt_mean_price_by_bedroom = df3.groupby(['Number_Bedroom'])['Price (in €)'].mean().round().reset_index(name='Mean Price Bedroom')\n",
    "\n",
    "# Mean price by bedroom\n",
    "apt_mean_price_by_surface = df3.groupby(['Surface (in m²)'])['Price (in €)'].mean().round().reset_index(name='Mean Price Surface')\n",
    "\n",
    "# Mean price by city\n",
    "apt_mean_price_by_city = df3.groupby(['City'])['Price (in €)'].mean().round().reset_index(name='Mean Price City')"
   ]
  },
  {
   "cell_type": "code",
   "execution_count": null,
   "id": "6bef38e5",
   "metadata": {},
   "outputs": [],
   "source": [
    "fig, axes = plt.subplots(3, 1, figsize=(12,16), sharey=True)\n",
    "\n",
    "sns.regplot(ax=axes[0], x = 'Number_Room', y = 'Mean Price Room', data = apt_mean_price_by_room, color = 'orange')\n",
    "axes[0].set_title('Number_Room of Apt vs Average Price (in €)')\n",
    "\n",
    "sns.regplot(ax=axes[1], x = 'Number_Bedroom', y ='Mean Price Bedroom', data = apt_mean_price_by_bedroom, color = 'green')\n",
    "axes[1].set_title('Number_Bedroom of Apt vs Average Price (in €)')\n",
    "\n",
    "sns.regplot(ax=axes[2], x = 'Surface (in m²)', y ='Mean Price Surface', data = apt_mean_price_by_surface, color = 'red')\n",
    "axes[2].set_title('Surface (in m²) of Apt vs Average Price (in €)')\n",
    " \n",
    "# Format y-axis tick labels as integers\n",
    "plt.ticklabel_format(style='plain', axis='y')"
   ]
  },
  {
   "cell_type": "code",
   "execution_count": null,
   "id": "163512f3",
   "metadata": {
    "scrolled": false
   },
   "outputs": [],
   "source": [
    "plt.figure(figsize=(15,6))\n",
    "\n",
    "ax = sns.barplot(x = 'City', y = 'Mean Price City', data = apt_mean_price_by_city)\n",
    "ax.bar_label(ax.containers[0])\n",
    "plt.title('Average price of Apt (in €) by City')\n",
    "\n",
    "# Format x-axis tick labels as integers\n",
    "plt.ticklabel_format(style='plain', axis='y')\n",
    "plt.xticks(rotation=75)\n",
    "plt.show()"
   ]
  },
  {
   "cell_type": "code",
   "execution_count": null,
   "id": "84a8a1a6",
   "metadata": {},
   "outputs": [],
   "source": [
    "colors = ['lightslategray',] * 21\n",
    "colors[15] = 'crimson'\n",
    "\n",
    "#fig = px.bar(apt_mean_price_by_city, y='Mean Price City', x='City', text_auto='.2s',\n",
    "#            title='Average price of Apt (in €) by City', color = colors)\n",
    "#fig.update_traces(textfont_size=12, textangle=0, textposition=\"outside\", cliponaxis=False)\n",
    "#fig.show()"
   ]
  },
  {
   "cell_type": "code",
   "execution_count": null,
   "id": "622caa51",
   "metadata": {},
   "outputs": [],
   "source": [
    "df1['City'].unique()"
   ]
  },
  {
   "cell_type": "markdown",
   "id": "8caa4357",
   "metadata": {},
   "source": [
    "### 5. Webscrape new page for more info"
   ]
  },
  {
   "cell_type": "code",
   "execution_count": null,
   "id": "ea6ff7d1",
   "metadata": {},
   "outputs": [],
   "source": [
    "def webscrap_list_link(list_link, name_tags, class_tags) :\n",
    "    # Make list of get requests\n",
    "    list_resp = []\n",
    "    for url in list_link :  \n",
    "        list_resp.append(rq.get(url))\n",
    "        \n",
    "    # Make a list of beautiful Soup's content \n",
    "    list_soup= []\n",
    "    for response in list_resp: \n",
    "        list_soup.append(BeautifulSoup(response.content, \"html5lib\"))\n",
    "    \n",
    "    # Identify the HTML TAGS of cell's houses and make a list \n",
    "    list_html = []\n",
    "    for soup in list_soup :  \n",
    "        list_html.append(soup.find_all(name = name_tags, class_= class_tags))\n",
    "    \n",
    "    return list_html"
   ]
  },
  {
   "cell_type": "code",
   "execution_count": null,
   "id": "bd5e69e7",
   "metadata": {},
   "outputs": [],
   "source": [
    "# Make list of get requests\n",
    "response90 = []\n",
    "for url in df3['Link'] :  \n",
    "    response90.append(rq.get(url))"
   ]
  },
  {
   "cell_type": "code",
   "execution_count": null,
   "id": "c9db76d8",
   "metadata": {},
   "outputs": [],
   "source": [
    "# Make a list of beautiful Soup's content \n",
    "soup90 = []\n",
    "for resp in response90 : \n",
    "    soup90.append(BeautifulSoup(resp.content, \"html5lib\"))\n",
    "\n",
    "# Identify the HTML TAGS of cell's houses and make a list \n",
    "html_cells90 = []\n",
    "\n",
    "for sp in soup90 :  \n",
    "    html_cells90.append(sp.find_all(name = 'ul', class_=\"detail__in__photoprop__prop__ul\"))\n",
    "\n",
    "# let's print HTML TAGS of ONE cell to see important information about a sell \n",
    "ok = html_cells90[0][0]\n",
    "print(ok)"
   ]
  },
  {
   "cell_type": "code",
   "execution_count": null,
   "id": "ad6f6116",
   "metadata": {
    "scrolled": true
   },
   "outputs": [],
   "source": [
    "# Creation of df_apt_scrap\n",
    "data99 = []\n",
    "\n",
    "for page in html_cells90[:800] :\n",
    "    for li in page :\n",
    "          \n",
    "        #print(li)\n",
    "        item = {}\n",
    "        for label, span in zip(li.find_all('label'), li.find_all('span')):\n",
    "            span_text = span.text.strip() if span else None\n",
    "            label_text = label.text.strip()    \n",
    "            item[label_text] = span_text\n",
    "        data99.append(item)\n",
    "        \n",
    "df_apt_scrap = pd.DataFrame(data99)"
   ]
  },
  {
   "cell_type": "markdown",
   "id": "c4545699",
   "metadata": {},
   "source": [
    "### 6. Data pre-processing and selection"
   ]
  },
  {
   "cell_type": "code",
   "execution_count": null,
   "id": "f0147a53",
   "metadata": {},
   "outputs": [],
   "source": [
    "# Transform the NaN values into 0 and drop columns\n",
    "df_apt_scrap1 = df_apt_scrap.fillna(0)\n",
    "df_apt_scrap1 = df_apt_scrap1.drop(['Pièces','Surface habitable','Référence', 'Publication', 'Chambres'], axis=1)\n",
    "\n",
    "# Delete m², € and spaces from numbers \n",
    "cols = ['Surface séjour', 'Surface terrasse', 'Surface totale', 'Surface terrain', 'Taxe foncière', 'Taxe habitation']\n",
    "df_apt_scrap1[cols] = df_apt_scrap1[cols].replace('[\\.m²€]','',regex = True)\n",
    "df_apt_scrap1[cols] = df_apt_scrap1[cols].replace(r'\\s', '', regex=True)\n",
    "\n",
    "# Cast to numeric then int \n",
    "cols_int = ['Etage', \"Nbre d'étages\", \"Salles d'eau\", 'Toilettes', 'Salles de bain']\n",
    "df_apt_scrap1[cols_int] = df_apt_scrap1[cols_int].apply(pd.to_numeric).fillna(0)\n",
    "\n",
    "# Cast to numeric then float\n",
    "cols_float = ['Surface séjour', 'Surface terrasse', 'Surface totale', 'Surface terrain', 'Taxe foncière', 'Taxe habitation']\n",
    "df_apt_scrap1[cols_float] = df_apt_scrap1[cols_float].apply(pd.to_numeric, errors='coerce', downcast='float').fillna(0)"
   ]
  },
  {
   "cell_type": "code",
   "execution_count": null,
   "id": "26651f96",
   "metadata": {
    "scrolled": true
   },
   "outputs": [],
   "source": [
    "# Streamlit \n",
    "df_apt_processed_streamlit = pd.merge(df3, df_apt_scrap1, left_index=True, right_index=True)\n",
    "df_apt_processed_streamlit.to_csv('Webscraping_DOMimmo_4.csv', index=False)"
   ]
  },
  {
   "cell_type": "code",
   "execution_count": null,
   "id": "725a303d",
   "metadata": {},
   "outputs": [],
   "source": [
    "# Perform one hot encoding to convert categorical variables to binary variables.\n",
    "df_apt_scrap1 = pd.get_dummies(data = df_apt_scrap1, columns = ['Environnement', 'Vue', 'Exposition']) \n",
    "# Dataframe of apt from the link cleaned and processed\n",
    "df_apt_scrap1.head(5)"
   ]
  },
  {
   "cell_type": "code",
   "execution_count": null,
   "id": "1df48a0d",
   "metadata": {
    "scrolled": true
   },
   "outputs": [],
   "source": [
    "df3.reset_index(drop=True, inplace=True)\n",
    "df_apt_processed = pd.merge(df3, df_apt_scrap1, left_index=True, right_index=True)\n",
    "df_apt_processed.columns"
   ]
  },
  {
   "cell_type": "code",
   "execution_count": null,
   "id": "83500634",
   "metadata": {},
   "outputs": [],
   "source": [
    "df_apt_processed.head(3)"
   ]
  },
  {
   "cell_type": "markdown",
   "id": "268f487d",
   "metadata": {},
   "source": [
    "### 7. Creating Train Data and Test Data"
   ]
  },
  {
   "cell_type": "markdown",
   "id": "0124ffe3",
   "metadata": {},
   "source": [
    "it's important to rescale the variables so that they have a comparable scale. If we don't have comparable scales, then some of the coefficients as obtained by fitting the regression model might be very large or very small as compared to the other coefficients. This might become very annoying at the time of model evaluation. So it is advised to use standardization or normalization so that the units of the coefficients obtained are all on the same scale."
   ]
  },
  {
   "cell_type": "code",
   "execution_count": null,
   "id": "999ab173",
   "metadata": {},
   "outputs": [],
   "source": [
    "from sklearn.preprocessing import MinMaxScaler\n",
    "\n",
    "scaler = MinMaxScaler()\n",
    "\n",
    "# Apply scaler() to all the columns except the 'dummy' variables\n",
    "num_vars = ['Number_Room', 'Number_Bedroom', 'Surface (in m²)', 'Latitude',\n",
    "       'Longitude', 'Surface séjour', 'Etage', \"Nbre d'étages\",\n",
    "       'Salles de bain', 'Toilettes', 'Surface terrasse', 'Surface totale',\n",
    "       'Taxe foncière', 'Surface terrain', \"Salles d'eau\", 'Taxe habitation', 'Price (in €)']\n",
    "\n",
    "df_apt_processed[num_vars] = scaler.fit_transform(df_apt_processed[num_vars])"
   ]
  },
  {
   "cell_type": "code",
   "execution_count": null,
   "id": "ed8d69cc",
   "metadata": {},
   "outputs": [],
   "source": [
    "from sklearn.model_selection import train_test_split\n",
    "\n",
    "# Set our 'features' (x values) and our Y (target variable).\n",
    "features = df_apt_processed.drop(['Publishing Date', 'City', 'Address', 'Type', \n",
    "                                  'Description', 'Price (in €)', 'Latitude', 'Longitude',\n",
    "                                  'Link','Environnement_0', 'Vue_0','Exposition_0'], axis = 1) \n",
    "Y = df_apt_processed['Price (in €)']\n",
    "\n",
    "x_train, x_test, y_train, y_test = train_test_split(features, Y, test_size=0.3, random_state=0)\n",
    "print ('Train set:', x_train.shape,  y_train.shape)\n",
    "print ('Test set:', x_test.shape,  y_test.shape)"
   ]
  },
  {
   "cell_type": "code",
   "execution_count": null,
   "id": "98de2ae7",
   "metadata": {
    "scrolled": true
   },
   "outputs": [],
   "source": [
    "# Heatmap to find relations between variables in a dataset. \n",
    "fig = plt.figure(figsize=(20, 20))\n",
    "sns.heatmap(round(features.corr(), 2), annot = True, cmap = 'magma')\n",
    "plt.show()"
   ]
  },
  {
   "cell_type": "markdown",
   "id": "fa9b51cb",
   "metadata": {},
   "source": [
    "### 8. Linear Regression model"
   ]
  },
  {
   "cell_type": "markdown",
   "id": "a14a41d7",
   "metadata": {},
   "source": [
    "It's a supervised machine learning in which the predicted output is continuous with having a constant slope. It is used to predict the values in a continuous range instead of classifying the values in the categories. "
   ]
  },
  {
   "cell_type": "code",
   "execution_count": null,
   "id": "0cb131b3",
   "metadata": {},
   "outputs": [],
   "source": [
    "from sklearn.linear_model import LinearRegression\n",
    "\n",
    "LinearReg = LinearRegression().fit(x_train, y_train)\n",
    "LinearReg"
   ]
  },
  {
   "cell_type": "code",
   "execution_count": null,
   "id": "04e28261",
   "metadata": {},
   "outputs": [],
   "source": [
    "from sklearn.metrics import mean_squared_error\n",
    "\n",
    "# Make prediction and print RMSE and R²\n",
    "predictions = LinearReg.predict(x_test)\n",
    "\n",
    "LinearRegression_RMSE = np.sqrt(mean_squared_error(y_test, predictions))\n",
    "LinearRegression_R2 = LinearReg.score(x_test, y_test)\n",
    "\n",
    "print('RMSE Linear :', LinearRegression_RMSE)\n",
    "print('R2 Linear :', LinearRegression_R2)"
   ]
  },
  {
   "cell_type": "code",
   "execution_count": null,
   "id": "c9b765ab",
   "metadata": {},
   "outputs": [],
   "source": [
    "fig = plt.figure()\n",
    "sns.regplot(x = y_test, y = predictions, data = df_apt_processed)\n",
    "fig.suptitle('y_test vs y_pred')        \n",
    "plt.xlabel('y_test')                          \n",
    "plt.ylabel('y_pred') \n",
    "plt.show()"
   ]
  },
  {
   "cell_type": "markdown",
   "id": "ad6d3630",
   "metadata": {},
   "source": [
    "**Price** = intercept + **coeff0** * Number_Room + **coeff1** * Number_Bedroom + **coeff2** * Surface (in m²) + \n",
    "        **coeff3** * Surface séjour + **coeff4** * Etage + ..."
   ]
  },
  {
   "cell_type": "code",
   "execution_count": null,
   "id": "3716f49d",
   "metadata": {},
   "outputs": [],
   "source": [
    "LinearReg.coef_"
   ]
  },
  {
   "cell_type": "code",
   "execution_count": null,
   "id": "4222e477",
   "metadata": {},
   "outputs": [],
   "source": [
    "LinearReg.intercept_"
   ]
  },
  {
   "cell_type": "code",
   "execution_count": null,
   "id": "2c063799",
   "metadata": {},
   "outputs": [],
   "source": [
    "#df_apt_processed[num_vars] = scaler.inverse_transform(df_apt_processed[num_vars])"
   ]
  },
  {
   "cell_type": "markdown",
   "id": "717e5f44",
   "metadata": {},
   "source": [
    "### 9. OLS Regression model"
   ]
  },
  {
   "cell_type": "code",
   "execution_count": null,
   "id": "9f67cebd",
   "metadata": {
    "scrolled": true
   },
   "outputs": [],
   "source": [
    "import statsmodels.api as sm\n",
    "from statsmodels.api import OLS\n",
    "\n",
    "ols = sm.OLS(y_train, x_train).fit()\n",
    "#ols.summary()\n",
    "\n",
    "pred = ols.predict(x_test)\n",
    "\n",
    "OLSRegression_RMSE = np.sqrt(mean_squared_error(y_test, pred))\n",
    "OLSRegression_R2 = ols.rsquared\n",
    "\n",
    "print('RMSE OLS :', OLSRegression_RMSE)\n",
    "print('R2 OLS :', OLSRegression_R2)"
   ]
  },
  {
   "cell_type": "code",
   "execution_count": null,
   "id": "8eb5ab25",
   "metadata": {},
   "outputs": [],
   "source": [
    "from statsmodels.graphics.regressionplots import plot_partregress_grid\n",
    "\n",
    "# Create a 3x5 subplot\n",
    "fig, axs = plt.subplots(3, 5, figsize=(25, 15))\n",
    "\n",
    "for i in range(15):\n",
    "    # Plot the i-th figure on the i-th subplot\n",
    "    sm.graphics.plot_fit(ols, i, ax=axs[i//5, i%5])\n",
    "\n",
    "# Show the subplot\n",
    "plt.show()"
   ]
  },
  {
   "cell_type": "markdown",
   "id": "a069f5f1",
   "metadata": {},
   "source": [
    "### 10.  SVR Regression Model "
   ]
  },
  {
   "cell_type": "code",
   "execution_count": null,
   "id": "309acead",
   "metadata": {},
   "outputs": [],
   "source": [
    "from sklearn.svm import SVR \n",
    "\n",
    "svr_lin  = SVR(kernel='linear', C=1e3)\n",
    "svr_poly = SVR(kernel='poly', C=1e3, degree=1)\n",
    "svr_rbf = SVR(kernel='rbf', C=1e3, gamma=0.1)"
   ]
  },
  {
   "cell_type": "code",
   "execution_count": null,
   "id": "c41f8e0b",
   "metadata": {},
   "outputs": [],
   "source": [
    "# Fit regression model\n",
    "svr_lin.fit(x_train, y_train)\n",
    "svr_poly.fit(x_train, y_train)\n",
    "svr_rbf.fit(x_train, y_train)\n",
    "\n",
    "pred_lin = svr_lin.predict(x_test)\n",
    "pred_poly = svr_poly.predict(x_test)\n",
    "pred_rbf = svr_rbf.predict(x_test)\n",
    "\n",
    "svr_lin_RMSE = np.sqrt(mean_squared_error(y_test, pred_lin))\n",
    "svr_lin_R2 = svr_lin.score(x_test, y_test)\n",
    "print('RMSE SVM lin :', svr_lin_RMSE)\n",
    "print('R2 SVM lin :', svr_lin_R2,'\\n')\n",
    "\n",
    "svr_poly_RMSE = np.sqrt(mean_squared_error(y_test, pred_poly))\n",
    "svr_poly_R2 = svr_poly.score(x_test, y_test)\n",
    "print('RMSE SVM poly :', svr_poly_RMSE)\n",
    "print('R2 SVM poly :', svr_poly_R2,'\\n')\n",
    "\n",
    "svr_rbf_RMSE = np.sqrt(mean_squared_error(y_test, pred_rbf))\n",
    "svr_rbf_R2 = svr_rbf.score(x_test, y_test)\n",
    "print('RMSE SVM rbf :', svr_rbf_RMSE)\n",
    "print('R2 SVM rbf :', svr_rbf_R2)"
   ]
  },
  {
   "cell_type": "markdown",
   "id": "3ed6d1ca",
   "metadata": {},
   "source": [
    "### 11. Random Forest Regresion Model "
   ]
  },
  {
   "cell_type": "code",
   "execution_count": null,
   "id": "6cad4ada",
   "metadata": {},
   "outputs": [],
   "source": [
    "from sklearn.ensemble import RandomForestRegressor\n",
    "\n",
    "RF_reg = RandomForestRegressor(n_estimators=300)\n",
    "RF_reg.fit(x_train,y_train)\n",
    "\n",
    "pred_RF = RF_reg.predict(x_test)\n",
    "\n",
    "pred_RF_RMSE = np.sqrt(mean_squared_error(y_test, pred_RF))\n",
    "pred_RF_R2 = RF_reg.score(x_test, y_test)\n",
    "\n",
    "print('RMSE RF reg :', pred_RF_RMSE)\n",
    "print('R2 RF reg :', pred_RF_R2)"
   ]
  },
  {
   "cell_type": "markdown",
   "id": "d4c3f1e1",
   "metadata": {},
   "source": [
    "# Results"
   ]
  },
  {
   "cell_type": "code",
   "execution_count": null,
   "id": "bf58ad08",
   "metadata": {
    "scrolled": true
   },
   "outputs": [],
   "source": [
    "Model = ['Linear Regression', 'OLS Regression', 'SVM linear', 'SVM poly', 'SVM rbf', 'RF Regression']\n",
    "Score = [LinearRegression_R2, OLSRegression_R2, svr_lin_R2, svr_poly_R2, svr_rbf_R2, pred_RF_R2]\n",
    "RMSE = [LinearRegression_RMSE, OLSRegression_RMSE, svr_lin_RMSE, svr_poly_RMSE, svr_rbf_RMSE, pred_RF_RMSE]\n",
    "\n",
    "df_models = pd.DataFrame({'Model':Model, 'R2_Score':Score, 'RMSE':RMSE})\n",
    "df_models"
   ]
  },
  {
   "cell_type": "code",
   "execution_count": null,
   "id": "dd6ac294",
   "metadata": {},
   "outputs": [],
   "source": [
    "import matplotlib.ticker as mtick\n",
    "\n",
    "plt.figure(figsize=(10,6))\n",
    "\n",
    "labs = (df_models['R2_Score']*100).round(1).astype('str') + '%'\n",
    "\n",
    "ax = sns.barplot(x = 'Model', y = (df_models['R2_Score']*100).round(1), data = df_models)\n",
    "ax.bar_label(ax.containers[0], labels = labs)\n",
    "ax.yaxis.set_major_formatter(mtick.PercentFormatter())\n",
    "plt.title('R2 score of all Models')\n",
    "plt.show()"
   ]
  }
 ],
 "metadata": {
  "kernelspec": {
   "display_name": "Python 3 (ipykernel)",
   "language": "python",
   "name": "python3"
  },
  "language_info": {
   "codemirror_mode": {
    "name": "ipython",
    "version": 3
   },
   "file_extension": ".py",
   "mimetype": "text/x-python",
   "name": "python",
   "nbconvert_exporter": "python",
   "pygments_lexer": "ipython3",
   "version": "3.10.6"
  },
  "vscode": {
   "interpreter": {
    "hash": "916dbcbb3f70747c44a77c7bcd40155683ae19c65e1c03b4aa3499c5328201f1"
   }
  }
 },
 "nbformat": 4,
 "nbformat_minor": 5
}
